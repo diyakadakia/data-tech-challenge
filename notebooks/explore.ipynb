{
 "cells": [
  {
   "cell_type": "code",
   "execution_count": 1,
   "id": "56f6675c",
   "metadata": {},
   "outputs": [],
   "source": [
    "# Import statements \n",
    "import pandas as pd \n",
    "import numpy as np\n",
    "import pandas as pd\n",
    "import seaborn as sns"
   ]
  },
  {
   "cell_type": "code",
   "execution_count": 2,
   "id": "2f5f3f39",
   "metadata": {},
   "outputs": [
    {
     "data": {
      "text/html": [
       "<div>\n",
       "<style scoped>\n",
       "    .dataframe tbody tr th:only-of-type {\n",
       "        vertical-align: middle;\n",
       "    }\n",
       "\n",
       "    .dataframe tbody tr th {\n",
       "        vertical-align: top;\n",
       "    }\n",
       "\n",
       "    .dataframe thead th {\n",
       "        text-align: right;\n",
       "    }\n",
       "</style>\n",
       "<table border=\"1\" class=\"dataframe\">\n",
       "  <thead>\n",
       "    <tr style=\"text-align: right;\">\n",
       "      <th></th>\n",
       "      <th>Month</th>\n",
       "      <th>AustralianPort</th>\n",
       "      <th>ForeignPort</th>\n",
       "      <th>Country</th>\n",
       "      <th>Passengers_In</th>\n",
       "      <th>Freight_In_(tonnes)</th>\n",
       "      <th>Mail_In_(tonnes)</th>\n",
       "      <th>Passengers_Out</th>\n",
       "      <th>Freight_Out_(tonnes)</th>\n",
       "      <th>Mail_Out_(tonnes)</th>\n",
       "      <th>Passengers_Total</th>\n",
       "      <th>Freight_Total_(tonnes)</th>\n",
       "      <th>Mail_Total_(tonnes)</th>\n",
       "      <th>Year</th>\n",
       "      <th>Month_num</th>\n",
       "    </tr>\n",
       "  </thead>\n",
       "  <tbody>\n",
       "    <tr>\n",
       "      <th>0</th>\n",
       "      <td>Jan-85</td>\n",
       "      <td>Adelaide</td>\n",
       "      <td>Auckland</td>\n",
       "      <td>New Zealand</td>\n",
       "      <td>1513</td>\n",
       "      <td>42.167</td>\n",
       "      <td>0.311</td>\n",
       "      <td>985</td>\n",
       "      <td>18.704</td>\n",
       "      <td>0.924</td>\n",
       "      <td>2498</td>\n",
       "      <td>60.871</td>\n",
       "      <td>1.235</td>\n",
       "      <td>1985</td>\n",
       "      <td>1</td>\n",
       "    </tr>\n",
       "    <tr>\n",
       "      <th>1</th>\n",
       "      <td>Jan-85</td>\n",
       "      <td>Adelaide</td>\n",
       "      <td>Bahrain</td>\n",
       "      <td>Bahrain</td>\n",
       "      <td>12</td>\n",
       "      <td>0.000</td>\n",
       "      <td>0.000</td>\n",
       "      <td>5</td>\n",
       "      <td>0.033</td>\n",
       "      <td>0.000</td>\n",
       "      <td>17</td>\n",
       "      <td>0.033</td>\n",
       "      <td>0.000</td>\n",
       "      <td>1985</td>\n",
       "      <td>1</td>\n",
       "    </tr>\n",
       "    <tr>\n",
       "      <th>2</th>\n",
       "      <td>Jan-85</td>\n",
       "      <td>Adelaide</td>\n",
       "      <td>Bombay</td>\n",
       "      <td>India</td>\n",
       "      <td>7</td>\n",
       "      <td>0.000</td>\n",
       "      <td>0.000</td>\n",
       "      <td>5</td>\n",
       "      <td>0.000</td>\n",
       "      <td>0.000</td>\n",
       "      <td>12</td>\n",
       "      <td>0.000</td>\n",
       "      <td>0.000</td>\n",
       "      <td>1985</td>\n",
       "      <td>1</td>\n",
       "    </tr>\n",
       "    <tr>\n",
       "      <th>3</th>\n",
       "      <td>Jan-85</td>\n",
       "      <td>Adelaide</td>\n",
       "      <td>Frankfurt</td>\n",
       "      <td>Germany</td>\n",
       "      <td>115</td>\n",
       "      <td>0.009</td>\n",
       "      <td>0.000</td>\n",
       "      <td>171</td>\n",
       "      <td>0.000</td>\n",
       "      <td>0.248</td>\n",
       "      <td>286</td>\n",
       "      <td>0.009</td>\n",
       "      <td>0.248</td>\n",
       "      <td>1985</td>\n",
       "      <td>1</td>\n",
       "    </tr>\n",
       "    <tr>\n",
       "      <th>4</th>\n",
       "      <td>Jan-85</td>\n",
       "      <td>Adelaide</td>\n",
       "      <td>London</td>\n",
       "      <td>UK</td>\n",
       "      <td>1567</td>\n",
       "      <td>2.800</td>\n",
       "      <td>0.000</td>\n",
       "      <td>1472</td>\n",
       "      <td>10.618</td>\n",
       "      <td>2.487</td>\n",
       "      <td>3039</td>\n",
       "      <td>13.418</td>\n",
       "      <td>2.487</td>\n",
       "      <td>1985</td>\n",
       "      <td>1</td>\n",
       "    </tr>\n",
       "  </tbody>\n",
       "</table>\n",
       "</div>"
      ],
      "text/plain": [
       "    Month AustralianPort ForeignPort      Country  Passengers_In  \\\n",
       "0  Jan-85       Adelaide    Auckland  New Zealand           1513   \n",
       "1  Jan-85       Adelaide     Bahrain      Bahrain             12   \n",
       "2  Jan-85       Adelaide      Bombay        India              7   \n",
       "3  Jan-85       Adelaide   Frankfurt      Germany            115   \n",
       "4  Jan-85       Adelaide      London           UK           1567   \n",
       "\n",
       "   Freight_In_(tonnes)  Mail_In_(tonnes)  Passengers_Out  \\\n",
       "0               42.167             0.311             985   \n",
       "1                0.000             0.000               5   \n",
       "2                0.000             0.000               5   \n",
       "3                0.009             0.000             171   \n",
       "4                2.800             0.000            1472   \n",
       "\n",
       "   Freight_Out_(tonnes)  Mail_Out_(tonnes)  Passengers_Total  \\\n",
       "0                18.704              0.924              2498   \n",
       "1                 0.033              0.000                17   \n",
       "2                 0.000              0.000                12   \n",
       "3                 0.000              0.248               286   \n",
       "4                10.618              2.487              3039   \n",
       "\n",
       "   Freight_Total_(tonnes)  Mail_Total_(tonnes)  Year  Month_num  \n",
       "0                  60.871                1.235  1985          1  \n",
       "1                   0.033                0.000  1985          1  \n",
       "2                   0.000                0.000  1985          1  \n",
       "3                   0.009                0.248  1985          1  \n",
       "4                  13.418                2.487  1985          1  "
      ]
     },
     "execution_count": 2,
     "metadata": {},
     "output_type": "execute_result"
    }
   ],
   "source": [
    "# Read the csv file \n",
    "df = pd.read_csv('../data/raw/TechChallenge_Data.csv')\n",
    "df.head() "
   ]
  },
  {
   "cell_type": "code",
   "execution_count": 3,
   "id": "e458e948",
   "metadata": {},
   "outputs": [
    {
     "name": "stdout",
     "output_type": "stream",
     "text": [
      "<class 'pandas.core.frame.DataFrame'>\n",
      "RangeIndex: 9999 entries, 0 to 9998\n",
      "Data columns (total 15 columns):\n",
      " #   Column                  Non-Null Count  Dtype  \n",
      "---  ------                  --------------  -----  \n",
      " 0   Month                   9999 non-null   object \n",
      " 1   AustralianPort          9999 non-null   object \n",
      " 2   ForeignPort             9999 non-null   object \n",
      " 3   Country                 9999 non-null   object \n",
      " 4   Passengers_In           9999 non-null   int64  \n",
      " 5   Freight_In_(tonnes)     9999 non-null   float64\n",
      " 6   Mail_In_(tonnes)        9999 non-null   float64\n",
      " 7   Passengers_Out          9999 non-null   int64  \n",
      " 8   Freight_Out_(tonnes)    9999 non-null   float64\n",
      " 9   Mail_Out_(tonnes)       9999 non-null   float64\n",
      " 10  Passengers_Total        9999 non-null   int64  \n",
      " 11  Freight_Total_(tonnes)  9999 non-null   float64\n",
      " 12  Mail_Total_(tonnes)     9999 non-null   float64\n",
      " 13  Year                    9999 non-null   int64  \n",
      " 14  Month_num               9999 non-null   int64  \n",
      "dtypes: float64(6), int64(5), object(4)\n",
      "memory usage: 1.1+ MB\n"
     ]
    },
    {
     "data": {
      "text/plain": [
       "Month                     0\n",
       "AustralianPort            0\n",
       "ForeignPort               0\n",
       "Country                   0\n",
       "Passengers_In             0\n",
       "Freight_In_(tonnes)       0\n",
       "Mail_In_(tonnes)          0\n",
       "Passengers_Out            0\n",
       "Freight_Out_(tonnes)      0\n",
       "Mail_Out_(tonnes)         0\n",
       "Passengers_Total          0\n",
       "Freight_Total_(tonnes)    0\n",
       "Mail_Total_(tonnes)       0\n",
       "Year                      0\n",
       "Month_num                 0\n",
       "dtype: int64"
      ]
     },
     "execution_count": 3,
     "metadata": {},
     "output_type": "execute_result"
    }
   ],
   "source": [
    "# Explore data\n",
    "df.info()       \n",
    "df.describe()   \n",
    "df.isna().sum() "
   ]
  },
  {
   "cell_type": "code",
   "execution_count": 4,
   "id": "40e8c8e0",
   "metadata": {},
   "outputs": [],
   "source": [
    "# Make another column for each possible route \n",
    "df['Route'] = df['AustralianPort'] + \" to \" + df['ForeignPort']"
   ]
  },
  {
   "cell_type": "code",
   "execution_count": 5,
   "id": "90d57c2d",
   "metadata": {},
   "outputs": [],
   "source": [
    "# Make another column for the Date\n",
    "df[\"Date\"] = pd.to_datetime(\n",
    "    dict(year=df[\"Year\"], month=df[\"Month_num\"], day=1))"
   ]
  },
  {
   "cell_type": "code",
   "execution_count": 6,
   "id": "35080987",
   "metadata": {},
   "outputs": [],
   "source": [
    "# save cleaned csv \n",
    "output_path = \"../data/cleaned/air_traffic_clean.csv\"\n",
    "df.to_csv(output_path, index=False)"
   ]
  },
  {
   "cell_type": "code",
   "execution_count": 7,
   "id": "b8cda1b1",
   "metadata": {},
   "outputs": [
    {
     "name": "stdout",
     "output_type": "stream",
     "text": [
      "The Most Trafficked Routes Are:\n",
      "Route\n",
      "Sydney to Auckland        2961212\n",
      "Sydney to Singapore       1440018\n",
      "Sydney to Tokyo           1292116\n",
      "Sydney to Hong Kong       1151900\n",
      "Perth to Singapore         952926\n",
      "Brisbane to Auckland       893246\n",
      "Sydney to Christchurch     882357\n",
      "Melbourne to Singapore     865251\n",
      "Sydney to Los Angeles      862964\n",
      "Sydney to Honolulu         861814\n",
      "Name: Passengers_Total, dtype: int64\n",
      "\n",
      "The Least Trafficked Routes Are:\n",
      "Route\n",
      "Melbourne to Denver             0\n",
      "Brisbane to Colombo             0\n",
      "Brisbane to Chicago             0\n",
      "Perth to Bandar Seri Begawan    0\n",
      "Adelaide to Harare              0\n",
      "Townsville to San Francisco     1\n",
      "Cairns to Honiara               1\n",
      "Darwin to Zagreb                1\n",
      "Hobart to Tokyo                 1\n",
      "Hobart to Los Angeles           2\n",
      "Name: Passengers_Total, dtype: int64\n"
     ]
    }
   ],
   "source": [
    "# Sum total passengers per route\n",
    "route_passengers = df.groupby(\"Route\")[\"Passengers_Total\"].sum()\n",
    "\n",
    "# Most trafficked (top 10)\n",
    "most_used_routes = route_passengers.sort_values(ascending=False).head(10)\n",
    "print(\"The Most Trafficked Routes Are:\")\n",
    "print(most_used_routes)\n",
    "\n",
    "# Least trafficked (bottom 10)\n",
    "least_used_routes = route_passengers.sort_values(ascending=True).head(10)\n",
    "print(\"\\nThe Least Trafficked Routes Are:\")\n",
    "print(least_used_routes)\n"
   ]
  },
  {
   "cell_type": "code",
   "execution_count": 8,
   "id": "6fc25401",
   "metadata": {},
   "outputs": [
    {
     "name": "stdout",
     "output_type": "stream",
     "text": [
      "Date\n",
      "1985-01-01    472565\n",
      "1985-02-01    384175\n",
      "1985-03-01    441095\n",
      "1985-04-01    397076\n",
      "1985-05-01    423252\n",
      "Name: Passengers_Total, dtype: int64\n"
     ]
    }
   ],
   "source": [
    "# Passenger Traffic Trends\n",
    "\n",
    "# only graph the data that is given \n",
    "cutoff_date = \"1989-01-01\" \n",
    "df_full = df[df[\"Date\"] < cutoff_date]\n",
    "\n",
    "monthly_passengers = df_full.groupby(\"Date\")[\"Passengers_Total\"].sum()\n",
    "\n",
    "\n",
    "\n",
    "print(monthly_passengers.head())\n"
   ]
  },
  {
   "cell_type": "code",
   "execution_count": 9,
   "id": "3cac8792",
   "metadata": {},
   "outputs": [
    {
     "ename": "NameError",
     "evalue": "name 'plt' is not defined",
     "output_type": "error",
     "traceback": [
      "\u001b[31m---------------------------------------------------------------------------\u001b[39m",
      "\u001b[31mNameError\u001b[39m                                 Traceback (most recent call last)",
      "\u001b[36mCell\u001b[39m\u001b[36m \u001b[39m\u001b[32mIn[9]\u001b[39m\u001b[32m, line 1\u001b[39m\n\u001b[32m----> \u001b[39m\u001b[32m1\u001b[39m \u001b[43mplt\u001b[49m.figure(figsize=(\u001b[32m10\u001b[39m,\u001b[32m4\u001b[39m))\n\u001b[32m      2\u001b[39m monthly_passengers.plot()\n\u001b[32m      3\u001b[39m plt.title(\u001b[33m\"\u001b[39m\u001b[33mTotal Passengers per Month (All Routes)\u001b[39m\u001b[33m\"\u001b[39m)\n",
      "\u001b[31mNameError\u001b[39m: name 'plt' is not defined"
     ]
    }
   ],
   "source": [
    "plt.figure(figsize=(10,4))\n",
    "monthly_passengers.plot()\n",
    "plt.title(\"Total Passengers per Month (All Routes)\")\n",
    "plt.xlabel(\"Date\")\n",
    "plt.ylabel(\"Passengers\")\n",
    "plt.show()"
   ]
  },
  {
   "cell_type": "code",
   "execution_count": null,
   "id": "663a18de",
   "metadata": {},
   "outputs": [],
   "source": [
    "# Total passengers by country over time \n",
    "top_countries = df_full.groupby(\"Country\")[\"Passengers_Total\"].sum().sort_values(ascending=False).head(5).index\n",
    "country_trends = df_full[df[\"Country\"].isin(top_countries)].groupby([\"Date\",\"Country\"])[\"Passengers_Total\"].sum().reset_index()\n",
    "\n",
    "sns.lineplot(data=country_trends, x=\"Date\", y=\"Passengers_Total\", hue=\"Country\")\n",
    "plt.title(\"Passenger Traffic Trends by Country (Top 5)\")\n",
    "plt.show() \n",
    " "
   ]
  },
  {
   "cell_type": "code",
   "execution_count": null,
   "id": "be7b0d93",
   "metadata": {},
   "outputs": [],
   "source": [
    "# Total passengers by Australian Port\n",
    "port_totals = (\n",
    "    df.groupby(\"AustralianPort\")[\"Passengers_Total\"]\n",
    "      .sum()\n",
    "      .sort_values(ascending=False)\n",
    "      .head(10)\n",
    ")\n",
    "\n",
    "plt.figure(figsize=(5,4))\n",
    "port_totals.plot(kind=\"bar\", color=\"teal\")\n",
    "plt.title(\"Top Australian Ports by Total Passengers (1985–1989)\")\n",
    "plt.xlabel(\"Australian Port\")\n",
    "plt.ylabel(\"Total Passengers\")\n",
    "plt.xticks(rotation=45, ha=\"right\")\n",
    "plt.show()\n"
   ]
  },
  {
   "cell_type": "code",
   "execution_count": null,
   "id": "e15306f3",
   "metadata": {},
   "outputs": [],
   "source": [
    "route = df[(df[\"AustralianPort\"]==\"Adelaide\") & (df[\"ForeignPort\"]==\"Singapore\")]\n",
    "plt.scatter(route[\"Year\"], route[\"Passengers_Total\"], alpha=0.6)\n",
    "plt.title(\"Adelaide–Singapore Passenger Traffic Over Time\")\n",
    "plt.xlabel(\"Year\")\n",
    "plt.ylabel(\"Passengers\")\n",
    "plt.show()\n"
   ]
  },
  {
   "cell_type": "code",
   "execution_count": null,
   "id": "086fa5ff",
   "metadata": {},
   "outputs": [],
   "source": [
    "#Top 15 Countries by Total Freight\n",
    "\n",
    "country_freight = (\n",
    "    df.groupby(\"Country\")[\"Freight_Total_(tonnes)\"]\n",
    "    .sum()\n",
    "    .sort_values(ascending=False)\n",
    "    .head(15)\n",
    ")\n",
    "\n",
    "# Plot horizontal bar chart\n",
    "plt.figure(figsize=(6,4))\n",
    "country_freight.plot(kind=\"barh\", color=\"darkred\")\n",
    "plt.gca().invert_yaxis()  \n",
    "plt.xlabel(\"Total Freight (tonnes)\")\n",
    "plt.title(\"Top 15 Countries by Total Freight (1985–1989)\")\n",
    "plt.show() \n"
   ]
  }
 ],
 "metadata": {
  "kernelspec": {
   "display_name": "new-env",
   "language": "python",
   "name": "python3"
  },
  "language_info": {
   "codemirror_mode": {
    "name": "ipython",
    "version": 3
   },
   "file_extension": ".py",
   "mimetype": "text/x-python",
   "name": "python",
   "nbconvert_exporter": "python",
   "pygments_lexer": "ipython3",
   "version": "3.11.11"
  }
 },
 "nbformat": 4,
 "nbformat_minor": 5
}
